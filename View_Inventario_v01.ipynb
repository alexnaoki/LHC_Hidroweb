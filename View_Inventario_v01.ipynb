{
 "cells": [
  {
   "cell_type": "code",
   "execution_count": 1,
   "metadata": {},
   "outputs": [],
   "source": [
    "import ipyleaflet\n",
    "import ipywidgets\n",
    "import pandas as pd\n",
    "import geopandas as gpd\n",
    "from shapely.geometry import Polygon, Point"
   ]
  },
  {
   "cell_type": "code",
   "execution_count": 2,
   "metadata": {},
   "outputs": [],
   "source": [
    "path_inventario = '../LHC_Hidroweb/invent2.csv'"
   ]
  },
  {
   "cell_type": "code",
   "execution_count": 3,
   "metadata": {},
   "outputs": [],
   "source": [
    "df = pd.read_csv(path_inventario, engine='python', sep='\\t', delimiter=';')"
   ]
  },
  {
   "cell_type": "code",
   "execution_count": 4,
   "metadata": {},
   "outputs": [
    {
     "data": {
      "text/plain": [
       "Index(['RegistroID', 'Importado', 'Temporario', 'Removido',\n",
       "       'ImportadoRepetido', 'BaciaCodigo', 'SubBaciaCodigo', 'RioCodigo',\n",
       "       'EstadoCodigo', 'MunicipioCodigo', 'ResponsavelCodigo',\n",
       "       'ResponsavelUnidade', 'ResponsavelJurisdicao', 'OperadoraCodigo',\n",
       "       'OperadoraUnidade', 'OperadoraSubUnidade', 'TipoEstacao', 'Codigo',\n",
       "       'Nome', 'CodigoAdicional', 'Latitude', 'Longitude', 'Altitude',\n",
       "       'AreaDrenagem', 'TipoEstacaoEscala', 'TipoEstacaoRegistradorNivel',\n",
       "       'TipoEstacaoDescLiquida', 'TipoEstacaoSedimentos',\n",
       "       'TipoEstacaoQualAgua', 'TipoEstacaoPluviometro',\n",
       "       'TipoEstacaoRegistradorChuva', 'TipoEstacaoTanqueEvapo',\n",
       "       'TipoEstacaoClimatologica', 'TipoEstacaoPiezometria',\n",
       "       'TipoEstacaoTelemetrica', 'PeriodoEscalaInicio', 'PeriodoEscalaFim',\n",
       "       'PeriodoRegistradorNivelInicio', 'PeriodoRegistradorNivelFim',\n",
       "       'PeriodoDescLiquidaInicio', 'PeriodoDescLiquidaFim',\n",
       "       'PeriodoSedimentosInicio', 'PeriodoSedimentosFim',\n",
       "       'PeriodoQualAguaInicio', 'PeriodoQualAguaFim',\n",
       "       'PeriodoPluviometroInicio', 'PeriodoPluviometroFim',\n",
       "       'PeriodoRegistradorChuvaInicio', 'PeriodoRegistradorChuvaFim',\n",
       "       'PeriodoTanqueEvapoInicio', 'PeriodoTanqueEvapoFim',\n",
       "       'PeriodoClimatologicaInicio', 'PeriodoClimatologicaFim',\n",
       "       'PeriodoPiezometriaInicio', 'PeriodoPiezometriaFim',\n",
       "       'PeriodoTelemetricaInicio', 'PeriodoTelemetricaFim', 'TipoRedeBasica',\n",
       "       'TipoRedeEnergetica', 'TipoRedeNavegacao', 'TipoRedeCursoDagua',\n",
       "       'TipoRedeEstrategica', 'TipoRedeCaptacao', 'TipoRedeSedimentos',\n",
       "       'TipoRedeQualAgua', 'TipoRedeClasseVazao', 'UltimaAtualizacao',\n",
       "       'Operando', 'NumImagens', 'DataIns', 'DataAlt', 'RespAlt'],\n",
       "      dtype='object')"
      ]
     },
     "execution_count": 4,
     "metadata": {},
     "output_type": "execute_result"
    }
   ],
   "source": [
    "df.columns"
   ]
  },
  {
   "cell_type": "code",
   "execution_count": 6,
   "metadata": {},
   "outputs": [],
   "source": [
    "df[['Latitude', 'Longitude']] = df[['Latitude', 'Longitude']].apply(lambda x: x.str.replace(',','.'))\n",
    "df['Latitude'] = df['Latitude'].astype('float')\n",
    "df['Longitude'] = df['Longitude'].astype('float')"
   ]
  },
  {
   "cell_type": "code",
   "execution_count": 7,
   "metadata": {},
   "outputs": [
    {
     "data": {
      "text/html": [
       "<div>\n",
       "<style scoped>\n",
       "    .dataframe tbody tr th:only-of-type {\n",
       "        vertical-align: middle;\n",
       "    }\n",
       "\n",
       "    .dataframe tbody tr th {\n",
       "        vertical-align: top;\n",
       "    }\n",
       "\n",
       "    .dataframe thead th {\n",
       "        text-align: right;\n",
       "    }\n",
       "</style>\n",
       "<table border=\"1\" class=\"dataframe\">\n",
       "  <thead>\n",
       "    <tr style=\"text-align: right;\">\n",
       "      <th></th>\n",
       "      <th>Latitude</th>\n",
       "      <th>Longitude</th>\n",
       "    </tr>\n",
       "  </thead>\n",
       "  <tbody>\n",
       "    <tr>\n",
       "      <td>0</td>\n",
       "      <td>-13.6500</td>\n",
       "      <td>-73.0833</td>\n",
       "    </tr>\n",
       "    <tr>\n",
       "      <td>1</td>\n",
       "      <td>-13.0167</td>\n",
       "      <td>-73.9833</td>\n",
       "    </tr>\n",
       "    <tr>\n",
       "      <td>2</td>\n",
       "      <td>-13.6500</td>\n",
       "      <td>-73.3667</td>\n",
       "    </tr>\n",
       "    <tr>\n",
       "      <td>3</td>\n",
       "      <td>-13.4333</td>\n",
       "      <td>-73.8333</td>\n",
       "    </tr>\n",
       "    <tr>\n",
       "      <td>4</td>\n",
       "      <td>-13.6500</td>\n",
       "      <td>-73.9500</td>\n",
       "    </tr>\n",
       "  </tbody>\n",
       "</table>\n",
       "</div>"
      ],
      "text/plain": [
       "   Latitude  Longitude\n",
       "0  -13.6500   -73.0833\n",
       "1  -13.0167   -73.9833\n",
       "2  -13.6500   -73.3667\n",
       "3  -13.4333   -73.8333\n",
       "4  -13.6500   -73.9500"
      ]
     },
     "execution_count": 7,
     "metadata": {},
     "output_type": "execute_result"
    }
   ],
   "source": [
    "df[['Latitude','Longitude']].head()"
   ]
  },
  {
   "cell_type": "code",
   "execution_count": 8,
   "metadata": {},
   "outputs": [],
   "source": [
    "gdf = gpd.GeoDataFrame(df, geometry=gpd.points_from_xy(df.Longitude,df.Latitude))"
   ]
  },
  {
   "cell_type": "code",
   "execution_count": 10,
   "metadata": {},
   "outputs": [
    {
     "data": {
      "application/vnd.jupyter.widget-view+json": {
       "model_id": "828a117da5834aa3a74b070cb6d2f8cc",
       "version_major": 2,
       "version_minor": 0
      },
      "text/plain": [
       "Map(center=[0.0, 0.0], controls=(ZoomControl(options=['position', 'zoom_in_text', 'zoom_in_title', 'zoom_out_t…"
      ]
     },
     "metadata": {},
     "output_type": "display_data"
    }
   ],
   "source": [
    "m01 = ipyleaflet.Map(zoom=2)\n",
    "\n",
    "# Layers\n",
    "## All points for HEATMAP\n",
    "heatmap_all = ipyleaflet.Heatmap(locations=[tuple(r) for r in df[['Latitude', 'Longitude']].to_numpy()],\n",
    "                                 radius=30, name='All point Heatmap')\n",
    "m01.add_layer(heatmap_all)\n",
    "radius_slider = ipywidgets.IntSlider(description='Radius', min=1, max=50, value=15)\n",
    "ipywidgets.jslink((radius_slider,'value'),(heatmap_all,'radius'))\n",
    "widget_control01 = ipyleaflet.WidgetControl(widget=radius_slider, position='topright')\n",
    "m01.add_control(widget_control01)\n",
    "\n",
    "# Controles\n",
    "## Layer\n",
    "control_layer = ipyleaflet.LayersControl(position='topright')\n",
    "m01.add_control(control_layer)\n",
    "\n",
    "## Fullscreen\n",
    "control_fullscreen = ipyleaflet.FullScreenControl()\n",
    "m01.add_control(control_fullscreen)\n",
    "\n",
    "## Desenho\n",
    "control_desenho = ipyleaflet.DrawControl()\n",
    "feature_collection = {'type': 'FeatureCollection',\n",
    "                      'features': []}\n",
    "def handle_draw(self, action, geo_json):\n",
    "    \"\"\"Do something with the GeoJSON when it's drawn on the map\"\"\"   \n",
    "    feature_collection['features'].append(geo_json)\n",
    "\n",
    "control_desenho.on_draw(handle_draw)\n",
    "m01.add_control(control_desenho)\n",
    "\n",
    "## Mediçao\n",
    "# control_medicao = ipyleaflet.MeasureControl(position='bottomleft',\n",
    "#                                             active_color='orange',\n",
    "#                                             primary_length_units='kilometers')\n",
    "# m01.add_control(control_medicao)\n",
    "# control_medicao.complete_color = 'red'\n",
    "\n",
    "## Escala\n",
    "control_escala = ipyleaflet.ScaleControl(position='bottomleft')\n",
    "m01.add_control(control_escala)\n",
    "\n",
    "m01"
   ]
  },
  {
   "cell_type": "code",
   "execution_count": null,
   "metadata": {},
   "outputs": [],
   "source": []
  },
  {
   "cell_type": "code",
   "execution_count": null,
   "metadata": {},
   "outputs": [],
   "source": []
  }
 ],
 "metadata": {
  "kernelspec": {
   "display_name": "Python 3",
   "language": "python",
   "name": "python3"
  },
  "language_info": {
   "codemirror_mode": {
    "name": "ipython",
    "version": 3
   },
   "file_extension": ".py",
   "mimetype": "text/x-python",
   "name": "python",
   "nbconvert_exporter": "python",
   "pygments_lexer": "ipython3",
   "version": "3.7.4"
  }
 },
 "nbformat": 4,
 "nbformat_minor": 4
}
