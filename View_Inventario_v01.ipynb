{
 "cells": [
  {
   "cell_type": "code",
   "execution_count": 1,
   "metadata": {},
   "outputs": [],
   "source": [
    "import ipyleaflet\n",
    "import ipywidgets\n",
    "import pandas as pd\n",
    "import geopandas as gpd\n",
    "from shapely.geometry import Polygon, Point\n",
    "import datetime"
   ]
  },
  {
   "cell_type": "code",
   "execution_count": 2,
   "metadata": {},
   "outputs": [],
   "source": [
    "path_inventario = '../LHC_Hidroweb/invent2.csv'"
   ]
  },
  {
   "cell_type": "code",
   "execution_count": 3,
   "metadata": {},
   "outputs": [],
   "source": [
    "df = pd.read_csv(path_inventario, engine='python', sep='\\t', delimiter=';', parse_dates=['UltimaAtualizacao'])"
   ]
  },
  {
   "cell_type": "code",
   "execution_count": 4,
   "metadata": {},
   "outputs": [
    {
     "data": {
      "text/plain": [
       "Index(['RegistroID', 'Importado', 'Temporario', 'Removido',\n",
       "       'ImportadoRepetido', 'BaciaCodigo', 'SubBaciaCodigo', 'RioCodigo',\n",
       "       'EstadoCodigo', 'MunicipioCodigo', 'ResponsavelCodigo',\n",
       "       'ResponsavelUnidade', 'ResponsavelJurisdicao', 'OperadoraCodigo',\n",
       "       'OperadoraUnidade', 'OperadoraSubUnidade', 'TipoEstacao', 'Codigo',\n",
       "       'Nome', 'CodigoAdicional', 'Latitude', 'Longitude', 'Altitude',\n",
       "       'AreaDrenagem', 'TipoEstacaoEscala', 'TipoEstacaoRegistradorNivel',\n",
       "       'TipoEstacaoDescLiquida', 'TipoEstacaoSedimentos',\n",
       "       'TipoEstacaoQualAgua', 'TipoEstacaoPluviometro',\n",
       "       'TipoEstacaoRegistradorChuva', 'TipoEstacaoTanqueEvapo',\n",
       "       'TipoEstacaoClimatologica', 'TipoEstacaoPiezometria',\n",
       "       'TipoEstacaoTelemetrica', 'PeriodoEscalaInicio', 'PeriodoEscalaFim',\n",
       "       'PeriodoRegistradorNivelInicio', 'PeriodoRegistradorNivelFim',\n",
       "       'PeriodoDescLiquidaInicio', 'PeriodoDescLiquidaFim',\n",
       "       'PeriodoSedimentosInicio', 'PeriodoSedimentosFim',\n",
       "       'PeriodoQualAguaInicio', 'PeriodoQualAguaFim',\n",
       "       'PeriodoPluviometroInicio', 'PeriodoPluviometroFim',\n",
       "       'PeriodoRegistradorChuvaInicio', 'PeriodoRegistradorChuvaFim',\n",
       "       'PeriodoTanqueEvapoInicio', 'PeriodoTanqueEvapoFim',\n",
       "       'PeriodoClimatologicaInicio', 'PeriodoClimatologicaFim',\n",
       "       'PeriodoPiezometriaInicio', 'PeriodoPiezometriaFim',\n",
       "       'PeriodoTelemetricaInicio', 'PeriodoTelemetricaFim', 'TipoRedeBasica',\n",
       "       'TipoRedeEnergetica', 'TipoRedeNavegacao', 'TipoRedeCursoDagua',\n",
       "       'TipoRedeEstrategica', 'TipoRedeCaptacao', 'TipoRedeSedimentos',\n",
       "       'TipoRedeQualAgua', 'TipoRedeClasseVazao', 'UltimaAtualizacao',\n",
       "       'Operando', 'NumImagens', 'DataIns', 'DataAlt', 'RespAlt'],\n",
       "      dtype='object')"
      ]
     },
     "execution_count": 4,
     "metadata": {},
     "output_type": "execute_result"
    }
   ],
   "source": [
    "df.columns"
   ]
  },
  {
   "cell_type": "code",
   "execution_count": 5,
   "metadata": {},
   "outputs": [],
   "source": [
    "df[['Latitude', 'Longitude']] = df[['Latitude', 'Longitude']].apply(lambda x: x.str.replace(',','.'))\n",
    "df['Latitude'] = df['Latitude'].astype('float')\n",
    "df['Longitude'] = df['Longitude'].astype('float')"
   ]
  },
  {
   "cell_type": "code",
   "execution_count": 6,
   "metadata": {},
   "outputs": [
    {
     "data": {
      "text/html": [
       "<div>\n",
       "<style scoped>\n",
       "    .dataframe tbody tr th:only-of-type {\n",
       "        vertical-align: middle;\n",
       "    }\n",
       "\n",
       "    .dataframe tbody tr th {\n",
       "        vertical-align: top;\n",
       "    }\n",
       "\n",
       "    .dataframe thead th {\n",
       "        text-align: right;\n",
       "    }\n",
       "</style>\n",
       "<table border=\"1\" class=\"dataframe\">\n",
       "  <thead>\n",
       "    <tr style=\"text-align: right;\">\n",
       "      <th></th>\n",
       "      <th>Latitude</th>\n",
       "      <th>Longitude</th>\n",
       "    </tr>\n",
       "  </thead>\n",
       "  <tbody>\n",
       "    <tr>\n",
       "      <th>0</th>\n",
       "      <td>-13.6500</td>\n",
       "      <td>-73.0833</td>\n",
       "    </tr>\n",
       "    <tr>\n",
       "      <th>1</th>\n",
       "      <td>-13.0167</td>\n",
       "      <td>-73.9833</td>\n",
       "    </tr>\n",
       "    <tr>\n",
       "      <th>2</th>\n",
       "      <td>-13.6500</td>\n",
       "      <td>-73.3667</td>\n",
       "    </tr>\n",
       "    <tr>\n",
       "      <th>3</th>\n",
       "      <td>-13.4333</td>\n",
       "      <td>-73.8333</td>\n",
       "    </tr>\n",
       "    <tr>\n",
       "      <th>4</th>\n",
       "      <td>-13.6500</td>\n",
       "      <td>-73.9500</td>\n",
       "    </tr>\n",
       "  </tbody>\n",
       "</table>\n",
       "</div>"
      ],
      "text/plain": [
       "   Latitude  Longitude\n",
       "0  -13.6500   -73.0833\n",
       "1  -13.0167   -73.9833\n",
       "2  -13.6500   -73.3667\n",
       "3  -13.4333   -73.8333\n",
       "4  -13.6500   -73.9500"
      ]
     },
     "execution_count": 6,
     "metadata": {},
     "output_type": "execute_result"
    }
   ],
   "source": [
    "df[['Latitude','Longitude']].head()"
   ]
  },
  {
   "cell_type": "code",
   "execution_count": 7,
   "metadata": {},
   "outputs": [],
   "source": [
    "gdf = gpd.GeoDataFrame(df, geometry=gpd.points_from_xy(df.Longitude,df.Latitude))"
   ]
  },
  {
   "cell_type": "code",
   "execution_count": 8,
   "metadata": {},
   "outputs": [
    {
     "data": {
      "application/vnd.jupyter.widget-view+json": {
       "model_id": "42eff6724877478bba3cc01e43e5071f",
       "version_major": 2,
       "version_minor": 0
      },
      "text/plain": [
       "Map(center=[0.0, 0.0], controls=(ZoomControl(options=['position', 'zoom_in_text', 'zoom_in_title', 'zoom_out_t…"
      ]
     },
     "metadata": {},
     "output_type": "display_data"
    }
   ],
   "source": [
    "m01 = ipyleaflet.Map(zoom=2)\n",
    "\n",
    "# Layers\n",
    "# ## All points for HEATMAP\n",
    "heatmap_all = ipyleaflet.Heatmap(locations=[tuple(r) for r in df[['Latitude', 'Longitude']].to_numpy()],\n",
    "                                 radius=30, name='All point Heatmap')\n",
    "m01.add_layer(heatmap_all)\n",
    "\n",
    "radius_slider = ipywidgets.IntSlider(description='Radius', min=1, max=50, value=15)\n",
    "ipywidgets.jslink((radius_slider,'value'),(heatmap_all,'radius'))\n",
    "widget_control01 = ipyleaflet.WidgetControl(widget=radius_slider, position='bottomright')\n",
    "m01.add_control(widget_control01)\n",
    "\n",
    "## Last collection day\n",
    "def date_location(_):\n",
    "    heatmap_byLast.locations = [tuple(s) for s in df.loc[df['UltimaAtualizacao'] > date_slider.value, ['Latitude','Longitude']].to_numpy()]\n",
    "\n",
    "heatmap_byLast = ipyleaflet.Heatmap(locations=[tuple(r) for r in df[['Latitude', 'Longitude']].to_numpy()],\n",
    "                                    radius=30, name='By Date')\n",
    "m01.add_layer(heatmap_byLast)\n",
    "\n",
    "ipywidgets.jslink((radius_slider,'value'),(heatmap_byLast,'radius'))\n",
    "\n",
    "\n",
    "date_slider = ipywidgets.SelectionSlider(options=pd.date_range(start='2000-01-01',end='2020-01-01', freq='M').to_numpy())\n",
    "date_slider.observe(date_location,names='value')\n",
    "widget_control02 = ipyleaflet.WidgetControl(widget=date_slider, position='topright')\n",
    "m01.add_control(widget_control02)\n",
    "\n",
    "\n",
    "# Controles\n",
    "## Layer\n",
    "control_layer = ipyleaflet.LayersControl(position='topright')\n",
    "m01.add_control(control_layer)\n",
    "\n",
    "## Fullscreen\n",
    "control_fullscreen = ipyleaflet.FullScreenControl()\n",
    "m01.add_control(control_fullscreen)\n",
    "\n",
    "## Desenho\n",
    "control_desenho = ipyleaflet.DrawControl()\n",
    "feature_collection = {'type': 'FeatureCollection',\n",
    "                      'features': []}\n",
    "def handle_draw(self, action, geo_json):\n",
    "    \"\"\"Do something with the GeoJSON when it's drawn on the map\"\"\"   \n",
    "    feature_collection['features'].append(geo_json)\n",
    "\n",
    "control_desenho.on_draw(handle_draw)\n",
    "m01.add_control(control_desenho)\n",
    "\n",
    "## Mediçao\n",
    "# control_medicao = ipyleaflet.MeasureControl(position='bottomleft',\n",
    "#                                             active_color='orange',\n",
    "#                                             primary_length_units='kilometers')\n",
    "# m01.add_control(control_medicao)\n",
    "# control_medicao.complete_color = 'red'\n",
    "\n",
    "## Escala\n",
    "control_escala = ipyleaflet.ScaleControl(position='bottomleft')\n",
    "m01.add_control(control_escala)\n",
    "\n",
    "m01"
   ]
  },
  {
   "cell_type": "code",
   "execution_count": 14,
   "metadata": {},
   "outputs": [
    {
     "name": "stdout",
     "output_type": "stream",
     "text": [
      "POLYGON ((-33.925781 -24.96614, -48.691406 -10.228437, -61.831055 -22.674847, -35.200195 -29.305561, -33.925781 -24.96614))\n"
     ]
    }
   ],
   "source": [
    "try:\n",
    "    last_draw = feature_collection['features'][-1]['geometry']\n",
    "    last_polygon = Polygon([(i[0], i[1]) for i in last_draw['coordinates'][0]])\n",
    "    print(last_polygon)\n",
    "except:\n",
    "    print('Nenhum polígono desenhado')"
   ]
  },
  {
   "cell_type": "code",
   "execution_count": 15,
   "metadata": {},
   "outputs": [
    {
     "data": {
      "text/html": [
       "<div>\n",
       "<style scoped>\n",
       "    .dataframe tbody tr th:only-of-type {\n",
       "        vertical-align: middle;\n",
       "    }\n",
       "\n",
       "    .dataframe tbody tr th {\n",
       "        vertical-align: top;\n",
       "    }\n",
       "\n",
       "    .dataframe thead th {\n",
       "        text-align: right;\n",
       "    }\n",
       "</style>\n",
       "<table border=\"1\" class=\"dataframe\">\n",
       "  <thead>\n",
       "    <tr style=\"text-align: right;\">\n",
       "      <th></th>\n",
       "      <th>Nome</th>\n",
       "      <th>Codigo</th>\n",
       "    </tr>\n",
       "  </thead>\n",
       "  <tbody>\n",
       "    <tr>\n",
       "      <th>185</th>\n",
       "      <td>ESCOLA UNIÃO</td>\n",
       "      <td>2242094</td>\n",
       "    </tr>\n",
       "    <tr>\n",
       "      <th>294</th>\n",
       "      <td>POSTO GARRAFÃO</td>\n",
       "      <td>2242098</td>\n",
       "    </tr>\n",
       "    <tr>\n",
       "      <th>299</th>\n",
       "      <td>ANDORINHAS</td>\n",
       "      <td>2243235</td>\n",
       "    </tr>\n",
       "    <tr>\n",
       "      <th>410</th>\n",
       "      <td>ANICUNS</td>\n",
       "      <td>1649000</td>\n",
       "    </tr>\n",
       "    <tr>\n",
       "      <th>411</th>\n",
       "      <td>ACIMA DO CÓRREGO GRANDE</td>\n",
       "      <td>1655001</td>\n",
       "    </tr>\n",
       "    <tr>\n",
       "      <th>...</th>\n",
       "      <td>...</td>\n",
       "      <td>...</td>\n",
       "    </tr>\n",
       "    <tr>\n",
       "      <th>36415</th>\n",
       "      <td>UHE XAVIER - UXA</td>\n",
       "      <td>58826080</td>\n",
       "    </tr>\n",
       "    <tr>\n",
       "      <th>36436</th>\n",
       "      <td>PCH IVAN BOTELHO II  JUSANTE</td>\n",
       "      <td>58714080</td>\n",
       "    </tr>\n",
       "    <tr>\n",
       "      <th>36438</th>\n",
       "      <td>PCH ANHANGUERA BARRAMENTO</td>\n",
       "      <td>61395000</td>\n",
       "    </tr>\n",
       "    <tr>\n",
       "      <th>36439</th>\n",
       "      <td>PCH ANHANGUERA JUSANTE</td>\n",
       "      <td>61395100</td>\n",
       "    </tr>\n",
       "    <tr>\n",
       "      <th>36440</th>\n",
       "      <td>PCH ANHANGUERA BARRAMENTO</td>\n",
       "      <td>2047132</td>\n",
       "    </tr>\n",
       "  </tbody>\n",
       "</table>\n",
       "<p>16547 rows × 2 columns</p>\n",
       "</div>"
      ],
      "text/plain": [
       "                               Nome    Codigo\n",
       "185                    ESCOLA UNIÃO   2242094\n",
       "294                  POSTO GARRAFÃO   2242098\n",
       "299                      ANDORINHAS   2243235\n",
       "410                         ANICUNS   1649000\n",
       "411         ACIMA DO CÓRREGO GRANDE   1655001\n",
       "...                             ...       ...\n",
       "36415              UHE XAVIER - UXA  58826080\n",
       "36436  PCH IVAN BOTELHO II  JUSANTE  58714080\n",
       "36438     PCH ANHANGUERA BARRAMENTO  61395000\n",
       "36439        PCH ANHANGUERA JUSANTE  61395100\n",
       "36440     PCH ANHANGUERA BARRAMENTO   2047132\n",
       "\n",
       "[16547 rows x 2 columns]"
      ]
     },
     "execution_count": 15,
     "metadata": {},
     "output_type": "execute_result"
    }
   ],
   "source": [
    "gdf.loc[(gdf['geometry'].within(last_polygon)),['Nome', 'Codigo']]"
   ]
  },
  {
   "cell_type": "code",
   "execution_count": 16,
   "metadata": {},
   "outputs": [
    {
     "data": {
      "text/html": [
       "<div>\n",
       "<style scoped>\n",
       "    .dataframe tbody tr th:only-of-type {\n",
       "        vertical-align: middle;\n",
       "    }\n",
       "\n",
       "    .dataframe tbody tr th {\n",
       "        vertical-align: top;\n",
       "    }\n",
       "\n",
       "    .dataframe thead th {\n",
       "        text-align: right;\n",
       "    }\n",
       "</style>\n",
       "<table border=\"1\" class=\"dataframe\">\n",
       "  <thead>\n",
       "    <tr style=\"text-align: right;\">\n",
       "      <th></th>\n",
       "      <th>Nome</th>\n",
       "      <th>Codigo</th>\n",
       "    </tr>\n",
       "  </thead>\n",
       "  <tbody>\n",
       "    <tr>\n",
       "      <th>410</th>\n",
       "      <td>ANICUNS</td>\n",
       "      <td>1649000</td>\n",
       "    </tr>\n",
       "    <tr>\n",
       "      <th>411</th>\n",
       "      <td>ACIMA DO CÓRREGO GRANDE</td>\n",
       "      <td>1655001</td>\n",
       "    </tr>\n",
       "    <tr>\n",
       "      <th>412</th>\n",
       "      <td>PONTE DO ITABAPOANA</td>\n",
       "      <td>2141014</td>\n",
       "    </tr>\n",
       "    <tr>\n",
       "      <th>413</th>\n",
       "      <td>MIMOSO DO SUL</td>\n",
       "      <td>2141015</td>\n",
       "    </tr>\n",
       "    <tr>\n",
       "      <th>414</th>\n",
       "      <td>SÃO JOSÉ DAS TORRES</td>\n",
       "      <td>2141017</td>\n",
       "    </tr>\n",
       "    <tr>\n",
       "      <th>...</th>\n",
       "      <td>...</td>\n",
       "      <td>...</td>\n",
       "    </tr>\n",
       "    <tr>\n",
       "      <th>35682</th>\n",
       "      <td>RIBAS DO RIO PARDO</td>\n",
       "      <td>63931000</td>\n",
       "    </tr>\n",
       "    <tr>\n",
       "      <th>35940</th>\n",
       "      <td>UHE TRÊS MARIAS PORTO MESQUITA</td>\n",
       "      <td>1944060</td>\n",
       "    </tr>\n",
       "    <tr>\n",
       "      <th>35980</th>\n",
       "      <td>UHE CAÇU RIO DOCE</td>\n",
       "      <td>1851008</td>\n",
       "    </tr>\n",
       "    <tr>\n",
       "      <th>35994</th>\n",
       "      <td>UHE CAÇU RIO DOCE</td>\n",
       "      <td>60901000</td>\n",
       "    </tr>\n",
       "    <tr>\n",
       "      <th>36077</th>\n",
       "      <td>CGH SALTO DO LOBO JUSANTE</td>\n",
       "      <td>2248135</td>\n",
       "    </tr>\n",
       "  </tbody>\n",
       "</table>\n",
       "<p>1868 rows × 2 columns</p>\n",
       "</div>"
      ],
      "text/plain": [
       "                                 Nome    Codigo\n",
       "410                           ANICUNS   1649000\n",
       "411           ACIMA DO CÓRREGO GRANDE   1655001\n",
       "412               PONTE DO ITABAPOANA   2141014\n",
       "413                     MIMOSO DO SUL   2141015\n",
       "414               SÃO JOSÉ DAS TORRES   2141017\n",
       "...                               ...       ...\n",
       "35682              RIBAS DO RIO PARDO  63931000\n",
       "35940  UHE TRÊS MARIAS PORTO MESQUITA   1944060\n",
       "35980               UHE CAÇU RIO DOCE   1851008\n",
       "35994               UHE CAÇU RIO DOCE  60901000\n",
       "36077       CGH SALTO DO LOBO JUSANTE   2248135\n",
       "\n",
       "[1868 rows x 2 columns]"
      ]
     },
     "execution_count": 16,
     "metadata": {},
     "output_type": "execute_result"
    }
   ],
   "source": [
    "gdf.loc[(gdf['geometry'].within(last_polygon)) & (gdf['UltimaAtualizacao']>date_slider.value) ,['Nome', 'Codigo']]"
   ]
  },
  {
   "cell_type": "code",
   "execution_count": null,
   "metadata": {},
   "outputs": [],
   "source": []
  },
  {
   "cell_type": "code",
   "execution_count": null,
   "metadata": {},
   "outputs": [],
   "source": []
  }
 ],
 "metadata": {
  "kernelspec": {
   "display_name": "LHC_Hidroweb",
   "language": "python",
   "name": "lhc_hidroweb"
  },
  "language_info": {
   "codemirror_mode": {
    "name": "ipython",
    "version": 3
   },
   "file_extension": ".py",
   "mimetype": "text/x-python",
   "name": "python",
   "nbconvert_exporter": "python",
   "pygments_lexer": "ipython3",
   "version": "3.7.6"
  }
 },
 "nbformat": 4,
 "nbformat_minor": 4
}
