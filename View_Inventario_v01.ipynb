{
 "cells": [
  {
   "cell_type": "code",
   "execution_count": 1,
   "metadata": {},
   "outputs": [],
   "source": [
    "import ipyleaflet\n",
    "import ipywidgets\n",
    "import pandas as pd\n",
    "import geopandas as gpd\n",
    "from shapely.geometry import Polygon, Point\n",
    "import datetime"
   ]
  },
  {
   "cell_type": "code",
   "execution_count": 2,
   "metadata": {},
   "outputs": [],
   "source": [
    "path_inventario = '../LHC_Hidroweb/invent2.csv'"
   ]
  },
  {
   "cell_type": "code",
   "execution_count": 3,
   "metadata": {},
   "outputs": [],
   "source": [
    "df = pd.read_csv(path_inventario, engine='python', sep='\\t', delimiter=';', parse_dates=['UltimaAtualizacao'])"
   ]
  },
  {
   "cell_type": "code",
   "execution_count": 4,
   "metadata": {},
   "outputs": [
    {
     "data": {
      "text/plain": [
       "Index(['RegistroID', 'Importado', 'Temporario', 'Removido',\n",
       "       'ImportadoRepetido', 'BaciaCodigo', 'SubBaciaCodigo', 'RioCodigo',\n",
       "       'EstadoCodigo', 'MunicipioCodigo', 'ResponsavelCodigo',\n",
       "       'ResponsavelUnidade', 'ResponsavelJurisdicao', 'OperadoraCodigo',\n",
       "       'OperadoraUnidade', 'OperadoraSubUnidade', 'TipoEstacao', 'Codigo',\n",
       "       'Nome', 'CodigoAdicional', 'Latitude', 'Longitude', 'Altitude',\n",
       "       'AreaDrenagem', 'TipoEstacaoEscala', 'TipoEstacaoRegistradorNivel',\n",
       "       'TipoEstacaoDescLiquida', 'TipoEstacaoSedimentos',\n",
       "       'TipoEstacaoQualAgua', 'TipoEstacaoPluviometro',\n",
       "       'TipoEstacaoRegistradorChuva', 'TipoEstacaoTanqueEvapo',\n",
       "       'TipoEstacaoClimatologica', 'TipoEstacaoPiezometria',\n",
       "       'TipoEstacaoTelemetrica', 'PeriodoEscalaInicio', 'PeriodoEscalaFim',\n",
       "       'PeriodoRegistradorNivelInicio', 'PeriodoRegistradorNivelFim',\n",
       "       'PeriodoDescLiquidaInicio', 'PeriodoDescLiquidaFim',\n",
       "       'PeriodoSedimentosInicio', 'PeriodoSedimentosFim',\n",
       "       'PeriodoQualAguaInicio', 'PeriodoQualAguaFim',\n",
       "       'PeriodoPluviometroInicio', 'PeriodoPluviometroFim',\n",
       "       'PeriodoRegistradorChuvaInicio', 'PeriodoRegistradorChuvaFim',\n",
       "       'PeriodoTanqueEvapoInicio', 'PeriodoTanqueEvapoFim',\n",
       "       'PeriodoClimatologicaInicio', 'PeriodoClimatologicaFim',\n",
       "       'PeriodoPiezometriaInicio', 'PeriodoPiezometriaFim',\n",
       "       'PeriodoTelemetricaInicio', 'PeriodoTelemetricaFim', 'TipoRedeBasica',\n",
       "       'TipoRedeEnergetica', 'TipoRedeNavegacao', 'TipoRedeCursoDagua',\n",
       "       'TipoRedeEstrategica', 'TipoRedeCaptacao', 'TipoRedeSedimentos',\n",
       "       'TipoRedeQualAgua', 'TipoRedeClasseVazao', 'UltimaAtualizacao',\n",
       "       'Operando', 'NumImagens', 'DataIns', 'DataAlt', 'RespAlt'],\n",
       "      dtype='object')"
      ]
     },
     "execution_count": 4,
     "metadata": {},
     "output_type": "execute_result"
    }
   ],
   "source": [
    "df.columns"
   ]
  },
  {
   "cell_type": "code",
   "execution_count": 5,
   "metadata": {},
   "outputs": [],
   "source": [
    "df[['Latitude', 'Longitude']] = df[['Latitude', 'Longitude']].apply(lambda x: x.str.replace(',','.'))\n",
    "df['Latitude'] = df['Latitude'].astype('float')\n",
    "df['Longitude'] = df['Longitude'].astype('float')"
   ]
  },
  {
   "cell_type": "code",
   "execution_count": 6,
   "metadata": {},
   "outputs": [
    {
     "data": {
      "text/html": [
       "<div>\n",
       "<style scoped>\n",
       "    .dataframe tbody tr th:only-of-type {\n",
       "        vertical-align: middle;\n",
       "    }\n",
       "\n",
       "    .dataframe tbody tr th {\n",
       "        vertical-align: top;\n",
       "    }\n",
       "\n",
       "    .dataframe thead th {\n",
       "        text-align: right;\n",
       "    }\n",
       "</style>\n",
       "<table border=\"1\" class=\"dataframe\">\n",
       "  <thead>\n",
       "    <tr style=\"text-align: right;\">\n",
       "      <th></th>\n",
       "      <th>Latitude</th>\n",
       "      <th>Longitude</th>\n",
       "    </tr>\n",
       "  </thead>\n",
       "  <tbody>\n",
       "    <tr>\n",
       "      <th>0</th>\n",
       "      <td>-13.6500</td>\n",
       "      <td>-73.0833</td>\n",
       "    </tr>\n",
       "    <tr>\n",
       "      <th>1</th>\n",
       "      <td>-13.0167</td>\n",
       "      <td>-73.9833</td>\n",
       "    </tr>\n",
       "    <tr>\n",
       "      <th>2</th>\n",
       "      <td>-13.6500</td>\n",
       "      <td>-73.3667</td>\n",
       "    </tr>\n",
       "    <tr>\n",
       "      <th>3</th>\n",
       "      <td>-13.4333</td>\n",
       "      <td>-73.8333</td>\n",
       "    </tr>\n",
       "    <tr>\n",
       "      <th>4</th>\n",
       "      <td>-13.6500</td>\n",
       "      <td>-73.9500</td>\n",
       "    </tr>\n",
       "  </tbody>\n",
       "</table>\n",
       "</div>"
      ],
      "text/plain": [
       "   Latitude  Longitude\n",
       "0  -13.6500   -73.0833\n",
       "1  -13.0167   -73.9833\n",
       "2  -13.6500   -73.3667\n",
       "3  -13.4333   -73.8333\n",
       "4  -13.6500   -73.9500"
      ]
     },
     "execution_count": 6,
     "metadata": {},
     "output_type": "execute_result"
    }
   ],
   "source": [
    "df[['Latitude','Longitude']].head()"
   ]
  },
  {
   "cell_type": "code",
   "execution_count": 7,
   "metadata": {},
   "outputs": [],
   "source": [
    "gdf = gpd.GeoDataFrame(df, geometry=gpd.points_from_xy(df.Longitude,df.Latitude), crs='epsg:4674')"
   ]
  },
  {
   "cell_type": "code",
   "execution_count": 8,
   "metadata": {},
   "outputs": [
    {
     "data": {
      "application/vnd.jupyter.widget-view+json": {
       "model_id": "e8bd928b59824e149b21df87cfa85e9f",
       "version_major": 2,
       "version_minor": 0
      },
      "text/plain": [
       "Map(center=[0.0, 0.0], controls=(ZoomControl(options=['position', 'zoom_in_text', 'zoom_in_title', 'zoom_out_t…"
      ]
     },
     "metadata": {},
     "output_type": "display_data"
    }
   ],
   "source": [
    "m01 = ipyleaflet.Map(zoom=2)\n",
    "\n",
    "# Layers\n",
    "## All points for HEATMAP\n",
    "heatmap_all = ipyleaflet.Heatmap(locations=[tuple(r) for r in df[['Latitude', 'Longitude']].to_numpy()],\n",
    "                                 radius=30, name='All point Heatmap')\n",
    "m01.add_layer(heatmap_all)\n",
    "\n",
    "radius_slider = ipywidgets.IntSlider(description='Radius', min=1, max=50, value=15)\n",
    "ipywidgets.jslink((radius_slider,'value'),(heatmap_all,'radius'))\n",
    "widget_control01 = ipyleaflet.WidgetControl(widget=radius_slider, position='bottomright')\n",
    "m01.add_control(widget_control01)\n",
    "\n",
    "## Last collection day\n",
    "def date_location(_):\n",
    "    heatmap_byLast.locations = [tuple(s) for s in df.loc[df['UltimaAtualizacao'] > date_slider.value, ['Latitude','Longitude']].to_numpy()]\n",
    "\n",
    "heatmap_byLast = ipyleaflet.Heatmap(locations=[tuple(r) for r in df[['Latitude', 'Longitude']].to_numpy()],\n",
    "                                    radius=30, name='By Date')\n",
    "m01.add_layer(heatmap_byLast)\n",
    "\n",
    "ipywidgets.jslink((radius_slider,'value'),(heatmap_byLast,'radius'))\n",
    "\n",
    "\n",
    "date_slider = ipywidgets.SelectionSlider(options=pd.date_range(start='2000-01-01',end='2020-01-01', freq='M').to_numpy())\n",
    "date_slider.observe(date_location,names='value')\n",
    "widget_control02 = ipyleaflet.WidgetControl(widget=date_slider, position='topright')\n",
    "m01.add_control(widget_control02)\n",
    "\n",
    "\n",
    "teste = ipyleaflet.basemap_to_tiles(ipyleaflet.basemaps.NASAGIBS.ModisTerraTrueColorCR, \"2020-01-30\")\n",
    "\n",
    "\n",
    "# Controles\n",
    "## Layer\n",
    "control_layer = ipyleaflet.LayersControl(position='topright')\n",
    "m01.add_control(control_layer)\n",
    "\n",
    "## Split Layer\n",
    "# split_layer = ipyleaflet.SplitMapControl(left_layer=teste, right_layer=heatmap_byLast)\n",
    "# m01.add_control(split_layer)\n",
    "\n",
    "## Fullscreen\n",
    "control_fullscreen = ipyleaflet.FullScreenControl()\n",
    "m01.add_control(control_fullscreen)\n",
    "\n",
    "## Desenho\n",
    "control_desenho = ipyleaflet.DrawControl()\n",
    "feature_collection = {'type': 'FeatureCollection',\n",
    "                      'features': []}\n",
    "def handle_draw(self, action, geo_json):\n",
    "    \"\"\"Do something with the GeoJSON when it's drawn on the map\"\"\"   \n",
    "    feature_collection['features'].append(geo_json)\n",
    "\n",
    "control_desenho.on_draw(handle_draw)\n",
    "m01.add_control(control_desenho)\n",
    "\n",
    "## Mediçao\n",
    "# control_medicao = ipyleaflet.MeasureControl(position='bottomleft',\n",
    "#                                             active_color='orange',\n",
    "#                                             primary_length_units='kilometers')\n",
    "# m01.add_control(control_medicao)\n",
    "# control_medicao.complete_color = 'red'\n",
    "\n",
    "## Escala\n",
    "control_escala = ipyleaflet.ScaleControl(position='bottomleft')\n",
    "m01.add_control(control_escala)\n",
    "\n",
    "m01"
   ]
  },
  {
   "cell_type": "code",
   "execution_count": 38,
   "metadata": {},
   "outputs": [
    {
     "name": "stdout",
     "output_type": "stream",
     "text": [
      "POLYGON ((-51.833496 -7.710992, -23.005371 -21.943046, -15.270996 2.108899, -46.560059 16.299051, -51.833496 -7.710992))\n"
     ]
    }
   ],
   "source": [
    "try:\n",
    "    last_draw = feature_collection['features'][-1]['geometry']\n",
    "    last_polygon = Polygon([(i[0], i[1]) for i in last_draw['coordinates'][0]])\n",
    "    print(last_polygon)\n",
    "except:\n",
    "    print('Nenhum polígono desenhado')"
   ]
  },
  {
   "cell_type": "code",
   "execution_count": 39,
   "metadata": {},
   "outputs": [
    {
     "data": {
      "text/html": [
       "<div>\n",
       "<style scoped>\n",
       "    .dataframe tbody tr th:only-of-type {\n",
       "        vertical-align: middle;\n",
       "    }\n",
       "\n",
       "    .dataframe tbody tr th {\n",
       "        vertical-align: top;\n",
       "    }\n",
       "\n",
       "    .dataframe thead th {\n",
       "        text-align: right;\n",
       "    }\n",
       "</style>\n",
       "<table border=\"1\" class=\"dataframe\">\n",
       "  <thead>\n",
       "    <tr style=\"text-align: right;\">\n",
       "      <th></th>\n",
       "      <th>Nome</th>\n",
       "      <th>Codigo</th>\n",
       "    </tr>\n",
       "  </thead>\n",
       "  <tbody>\n",
       "    <tr>\n",
       "      <th>82</th>\n",
       "      <td>SÍTIO BICA</td>\n",
       "      <td>438038</td>\n",
       "    </tr>\n",
       "    <tr>\n",
       "      <th>84</th>\n",
       "      <td>BIXOPA</td>\n",
       "      <td>438074</td>\n",
       "    </tr>\n",
       "    <tr>\n",
       "      <th>85</th>\n",
       "      <td>TRUSSU</td>\n",
       "      <td>639050</td>\n",
       "    </tr>\n",
       "    <tr>\n",
       "      <th>86</th>\n",
       "      <td>LIMOEIRO DO NORTE</td>\n",
       "      <td>538009</td>\n",
       "    </tr>\n",
       "    <tr>\n",
       "      <th>87</th>\n",
       "      <td>FAZENDA MORADA NOVA</td>\n",
       "      <td>639075</td>\n",
       "    </tr>\n",
       "    <tr>\n",
       "      <th>...</th>\n",
       "      <td>...</td>\n",
       "      <td>...</td>\n",
       "    </tr>\n",
       "    <tr>\n",
       "      <th>36050</th>\n",
       "      <td>SÃO JOÃO DO PIAUÍ</td>\n",
       "      <td>842011</td>\n",
       "    </tr>\n",
       "    <tr>\n",
       "      <th>36084</th>\n",
       "      <td>CORURIPE</td>\n",
       "      <td>1036012</td>\n",
       "    </tr>\n",
       "    <tr>\n",
       "      <th>36085</th>\n",
       "      <td>EPITÁCIO PESSOA (COLÔNIA)</td>\n",
       "      <td>1037067</td>\n",
       "    </tr>\n",
       "    <tr>\n",
       "      <th>36086</th>\n",
       "      <td>MATA DE SÃO JOÃO</td>\n",
       "      <td>1238030</td>\n",
       "    </tr>\n",
       "    <tr>\n",
       "      <th>36093</th>\n",
       "      <td>PATOS</td>\n",
       "      <td>737039</td>\n",
       "    </tr>\n",
       "  </tbody>\n",
       "</table>\n",
       "<p>8115 rows × 2 columns</p>\n",
       "</div>"
      ],
      "text/plain": [
       "                            Nome   Codigo\n",
       "82                    SÍTIO BICA   438038\n",
       "84                        BIXOPA   438074\n",
       "85                        TRUSSU   639050\n",
       "86             LIMOEIRO DO NORTE   538009\n",
       "87           FAZENDA MORADA NOVA   639075\n",
       "...                          ...      ...\n",
       "36050          SÃO JOÃO DO PIAUÍ   842011\n",
       "36084                   CORURIPE  1036012\n",
       "36085  EPITÁCIO PESSOA (COLÔNIA)  1037067\n",
       "36086           MATA DE SÃO JOÃO  1238030\n",
       "36093                      PATOS   737039\n",
       "\n",
       "[8115 rows x 2 columns]"
      ]
     },
     "execution_count": 39,
     "metadata": {},
     "output_type": "execute_result"
    }
   ],
   "source": [
    "gdf.loc[(gdf['geometry'].within(last_polygon)),['Nome', 'Codigo']]"
   ]
  },
  {
   "cell_type": "code",
   "execution_count": 40,
   "metadata": {},
   "outputs": [
    {
     "data": {
      "text/html": [
       "<div>\n",
       "<style scoped>\n",
       "    .dataframe tbody tr th:only-of-type {\n",
       "        vertical-align: middle;\n",
       "    }\n",
       "\n",
       "    .dataframe tbody tr th {\n",
       "        vertical-align: top;\n",
       "    }\n",
       "\n",
       "    .dataframe thead th {\n",
       "        text-align: right;\n",
       "    }\n",
       "</style>\n",
       "<table border=\"1\" class=\"dataframe\">\n",
       "  <thead>\n",
       "    <tr style=\"text-align: right;\">\n",
       "      <th></th>\n",
       "      <th>Nome</th>\n",
       "      <th>Codigo</th>\n",
       "    </tr>\n",
       "  </thead>\n",
       "  <tbody>\n",
       "    <tr>\n",
       "      <th>82</th>\n",
       "      <td>SÍTIO BICA</td>\n",
       "      <td>438038</td>\n",
       "    </tr>\n",
       "    <tr>\n",
       "      <th>84</th>\n",
       "      <td>BIXOPA</td>\n",
       "      <td>438074</td>\n",
       "    </tr>\n",
       "    <tr>\n",
       "      <th>85</th>\n",
       "      <td>TRUSSU</td>\n",
       "      <td>639050</td>\n",
       "    </tr>\n",
       "    <tr>\n",
       "      <th>86</th>\n",
       "      <td>LIMOEIRO DO NORTE</td>\n",
       "      <td>538009</td>\n",
       "    </tr>\n",
       "    <tr>\n",
       "      <th>87</th>\n",
       "      <td>FAZENDA MORADA NOVA</td>\n",
       "      <td>639075</td>\n",
       "    </tr>\n",
       "    <tr>\n",
       "      <th>...</th>\n",
       "      <td>...</td>\n",
       "      <td>...</td>\n",
       "    </tr>\n",
       "    <tr>\n",
       "      <th>36050</th>\n",
       "      <td>SÃO JOÃO DO PIAUÍ</td>\n",
       "      <td>842011</td>\n",
       "    </tr>\n",
       "    <tr>\n",
       "      <th>36084</th>\n",
       "      <td>CORURIPE</td>\n",
       "      <td>1036012</td>\n",
       "    </tr>\n",
       "    <tr>\n",
       "      <th>36085</th>\n",
       "      <td>EPITÁCIO PESSOA (COLÔNIA)</td>\n",
       "      <td>1037067</td>\n",
       "    </tr>\n",
       "    <tr>\n",
       "      <th>36086</th>\n",
       "      <td>MATA DE SÃO JOÃO</td>\n",
       "      <td>1238030</td>\n",
       "    </tr>\n",
       "    <tr>\n",
       "      <th>36093</th>\n",
       "      <td>PATOS</td>\n",
       "      <td>737039</td>\n",
       "    </tr>\n",
       "  </tbody>\n",
       "</table>\n",
       "<p>7264 rows × 2 columns</p>\n",
       "</div>"
      ],
      "text/plain": [
       "                            Nome   Codigo\n",
       "82                    SÍTIO BICA   438038\n",
       "84                        BIXOPA   438074\n",
       "85                        TRUSSU   639050\n",
       "86             LIMOEIRO DO NORTE   538009\n",
       "87           FAZENDA MORADA NOVA   639075\n",
       "...                          ...      ...\n",
       "36050          SÃO JOÃO DO PIAUÍ   842011\n",
       "36084                   CORURIPE  1036012\n",
       "36085  EPITÁCIO PESSOA (COLÔNIA)  1037067\n",
       "36086           MATA DE SÃO JOÃO  1238030\n",
       "36093                      PATOS   737039\n",
       "\n",
       "[7264 rows x 2 columns]"
      ]
     },
     "execution_count": 40,
     "metadata": {},
     "output_type": "execute_result"
    }
   ],
   "source": [
    "gdf.loc[(gdf['geometry'].within(last_polygon)) & (gdf['UltimaAtualizacao']>date_slider.value) ,['Nome', 'Codigo']]"
   ]
  },
  {
   "cell_type": "code",
   "execution_count": 24,
   "metadata": {},
   "outputs": [],
   "source": [
    "path_shapefile = r'G:\\Meu Drive\\USP-SHS\\Documentos_Word_Excel_PowerPoint\\Shapefiles\\35MUE250GC_SIR.shp'\n",
    "# path_shapefile = r'G:\\Meu Drive\\USP-SHS\\Documentos_Word_Excel_PowerPoint\\Shapefiles\\bioma.shp'"
   ]
  },
  {
   "cell_type": "code",
   "execution_count": 29,
   "metadata": {},
   "outputs": [
    {
     "data": {
      "text/html": [
       "<div>\n",
       "<style scoped>\n",
       "    .dataframe tbody tr th:only-of-type {\n",
       "        vertical-align: middle;\n",
       "    }\n",
       "\n",
       "    .dataframe tbody tr th {\n",
       "        vertical-align: top;\n",
       "    }\n",
       "\n",
       "    .dataframe thead th {\n",
       "        text-align: right;\n",
       "    }\n",
       "</style>\n",
       "<table border=\"1\" class=\"dataframe\">\n",
       "  <thead>\n",
       "    <tr style=\"text-align: right;\">\n",
       "      <th></th>\n",
       "      <th>NM_MUNICIP</th>\n",
       "      <th>CD_GEOCMU</th>\n",
       "      <th>geometry</th>\n",
       "    </tr>\n",
       "  </thead>\n",
       "  <tbody>\n",
       "    <tr>\n",
       "      <th>2</th>\n",
       "      <td>DRACENA</td>\n",
       "      <td>3514403</td>\n",
       "      <td>POLYGON ((-51.48515 -21.42765, -51.48500 -21.4...</td>\n",
       "    </tr>\n",
       "  </tbody>\n",
       "</table>\n",
       "</div>"
      ],
      "text/plain": [
       "  NM_MUNICIP CD_GEOCMU                                           geometry\n",
       "2    DRACENA   3514403  POLYGON ((-51.48515 -21.42765, -51.48500 -21.4..."
      ]
     },
     "execution_count": 29,
     "metadata": {},
     "output_type": "execute_result"
    }
   ],
   "source": [
    "teste_shp = gpd.read_file(path_shapefile)\n",
    "city = teste_shp.loc[teste_shp['NM_MUNICIP']=='DRACENA']\n",
    "city"
   ]
  },
  {
   "cell_type": "code",
   "execution_count": 44,
   "metadata": {},
   "outputs": [
    {
     "name": "stdout",
     "output_type": "stream",
     "text": [
      "                        Nome   Codigo\n",
      "4912   DRACENA_Jardim Europa  2151062\n",
      "12948                DRACENA  2151010\n"
     ]
    }
   ],
   "source": [
    "for i in city['geometry']:\n",
    "    print(gdf.loc[gdf['geometry'].within(i), ['Nome', 'Codigo']])"
   ]
  }
 ],
 "metadata": {
  "kernelspec": {
   "display_name": "LHC_Hidroweb",
   "language": "python",
   "name": "lhc_hidroweb"
  },
  "language_info": {
   "codemirror_mode": {
    "name": "ipython",
    "version": 3
   },
   "file_extension": ".py",
   "mimetype": "text/x-python",
   "name": "python",
   "nbconvert_exporter": "python",
   "pygments_lexer": "ipython3",
   "version": "3.7.6"
  }
 },
 "nbformat": 4,
 "nbformat_minor": 4
}
