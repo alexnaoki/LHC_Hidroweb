{
 "cells": [
  {
   "cell_type": "code",
   "execution_count": 1,
   "metadata": {},
   "outputs": [],
   "source": [
    "import ipyleaflet"
   ]
  },
  {
   "cell_type": "code",
   "execution_count": 2,
   "metadata": {},
   "outputs": [],
   "source": [
    "import pandas as pd"
   ]
  },
  {
   "cell_type": "code",
   "execution_count": 15,
   "metadata": {},
   "outputs": [],
   "source": [
    "import geopandas as gpd"
   ]
  },
  {
   "cell_type": "code",
   "execution_count": 3,
   "metadata": {},
   "outputs": [],
   "source": [
    "path_inventario = '../LHC_Hidroweb/invent2.csv'"
   ]
  },
  {
   "cell_type": "code",
   "execution_count": 4,
   "metadata": {},
   "outputs": [],
   "source": [
    "df = pd.read_csv(path_inventario, engine='python', sep='\\t', delimiter=';')"
   ]
  },
  {
   "cell_type": "code",
   "execution_count": 20,
   "metadata": {},
   "outputs": [
    {
     "data": {
      "text/plain": [
       "Index(['RegistroID', 'Importado', 'Temporario', 'Removido',\n",
       "       'ImportadoRepetido', 'BaciaCodigo', 'SubBaciaCodigo', 'RioCodigo',\n",
       "       'EstadoCodigo', 'MunicipioCodigo', 'ResponsavelCodigo',\n",
       "       'ResponsavelUnidade', 'ResponsavelJurisdicao', 'OperadoraCodigo',\n",
       "       'OperadoraUnidade', 'OperadoraSubUnidade', 'TipoEstacao', 'Codigo',\n",
       "       'Nome', 'CodigoAdicional', 'Latitude', 'Longitude', 'Altitude',\n",
       "       'AreaDrenagem', 'TipoEstacaoEscala', 'TipoEstacaoRegistradorNivel',\n",
       "       'TipoEstacaoDescLiquida', 'TipoEstacaoSedimentos',\n",
       "       'TipoEstacaoQualAgua', 'TipoEstacaoPluviometro',\n",
       "       'TipoEstacaoRegistradorChuva', 'TipoEstacaoTanqueEvapo',\n",
       "       'TipoEstacaoClimatologica', 'TipoEstacaoPiezometria',\n",
       "       'TipoEstacaoTelemetrica', 'PeriodoEscalaInicio', 'PeriodoEscalaFim',\n",
       "       'PeriodoRegistradorNivelInicio', 'PeriodoRegistradorNivelFim',\n",
       "       'PeriodoDescLiquidaInicio', 'PeriodoDescLiquidaFim',\n",
       "       'PeriodoSedimentosInicio', 'PeriodoSedimentosFim',\n",
       "       'PeriodoQualAguaInicio', 'PeriodoQualAguaFim',\n",
       "       'PeriodoPluviometroInicio', 'PeriodoPluviometroFim',\n",
       "       'PeriodoRegistradorChuvaInicio', 'PeriodoRegistradorChuvaFim',\n",
       "       'PeriodoTanqueEvapoInicio', 'PeriodoTanqueEvapoFim',\n",
       "       'PeriodoClimatologicaInicio', 'PeriodoClimatologicaFim',\n",
       "       'PeriodoPiezometriaInicio', 'PeriodoPiezometriaFim',\n",
       "       'PeriodoTelemetricaInicio', 'PeriodoTelemetricaFim', 'TipoRedeBasica',\n",
       "       'TipoRedeEnergetica', 'TipoRedeNavegacao', 'TipoRedeCursoDagua',\n",
       "       'TipoRedeEstrategica', 'TipoRedeCaptacao', 'TipoRedeSedimentos',\n",
       "       'TipoRedeQualAgua', 'TipoRedeClasseVazao', 'UltimaAtualizacao',\n",
       "       'Operando', 'NumImagens', 'DataIns', 'DataAlt', 'RespAlt'],\n",
       "      dtype='object')"
      ]
     },
     "execution_count": 20,
     "metadata": {},
     "output_type": "execute_result"
    }
   ],
   "source": [
    "df.columns"
   ]
  },
  {
   "cell_type": "code",
   "execution_count": 5,
   "metadata": {},
   "outputs": [],
   "source": [
    "df[['Latitude', 'Longitude']] = df[['Latitude', 'Longitude']].apply(lambda x: x.str.replace(',', '.'))"
   ]
  },
  {
   "cell_type": "code",
   "execution_count": 6,
   "metadata": {},
   "outputs": [],
   "source": [
    "df['Latitude'] = pd.to_numeric(df['Latitude'])\n",
    "df['Longitude'] = pd.to_numeric(df['Longitude'])"
   ]
  },
  {
   "cell_type": "code",
   "execution_count": 7,
   "metadata": {},
   "outputs": [],
   "source": [
    "m = ipyleaflet.Map(zoom=2)\n",
    "heatmap = ipyleaflet.Heatmap(locations=[tuple(r) for r in df[['Latitude', 'Longitude']].to_numpy()],\n",
    "                  radius=30, name='Heatmap')\n",
    "m.add_layer(heatmap)\n",
    "\n",
    "# Controle LAYERS\n",
    "control = ipyleaflet.LayersControl(position='topright')\n",
    "m.add_control(control)\n",
    "\n",
    "# Controle ESCALA\n",
    "m.add_control(ipyleaflet.ScaleControl(position='bottomleft'))\n",
    "\n",
    "# Controle FULLSCREEN\n",
    "m.add_control(ipyleaflet.FullScreenControl())\n",
    "\n",
    "# Controle MEDIÇÃO\n",
    "measure = ipyleaflet.MeasureControl(position='bottomleft',\n",
    "                                    active_color='orange',\n",
    "                                    primary_length_unit='kilometers')\n",
    "m.add_control(measure)\n",
    "measure.complete_color = 'red'\n",
    "\n",
    "# Controle DESENHO\n",
    "draw_control = ipyleaflet.DrawControl()\n",
    "feature_collection = {\n",
    "    'type': 'FeatureCollection',\n",
    "    'features': []\n",
    "}\n",
    "def handle_draw(self, action, geo_json):\n",
    "    \"\"\"Do something with the GeoJSON when it's drawn on the map\"\"\"   \n",
    "    feature_collection['features'].append(geo_json)\n",
    "    \n",
    "draw_control.on_draw(handle_draw)\n",
    "    \n",
    "m.add_control(draw_control)\n"
   ]
  },
  {
   "cell_type": "code",
   "execution_count": 8,
   "metadata": {},
   "outputs": [
    {
     "data": {
      "application/vnd.jupyter.widget-view+json": {
       "model_id": "0a369e599795426e9f195455aa947284",
       "version_major": 2,
       "version_minor": 0
      },
      "text/plain": [
       "Map(center=[0.0, 0.0], controls=(ZoomControl(options=['position', 'zoom_in_text', 'zoom_in_title', 'zoom_out_t…"
      ]
     },
     "metadata": {},
     "output_type": "display_data"
    }
   ],
   "source": [
    "m"
   ]
  },
  {
   "cell_type": "code",
   "execution_count": 99,
   "metadata": {},
   "outputs": [
    {
     "data": {
      "text/plain": [
       "{'type': 'Polygon',\n",
       " 'coordinates': [[[-47.768555, -20.797201],\n",
       "   [-48.999023, -21.841105],\n",
       "   [-47.988281, -22.978624],\n",
       "   [-45.483398, -21.841105],\n",
       "   [-45.681152, -21.063997],\n",
       "   [-47.768555, -20.797201]]]}"
      ]
     },
     "execution_count": 99,
     "metadata": {},
     "output_type": "execute_result"
    }
   ],
   "source": [
    "a = feature_collection['features'][-1]['geometry']\n",
    "a"
   ]
  },
  {
   "cell_type": "code",
   "execution_count": 100,
   "metadata": {},
   "outputs": [
    {
     "name": "stdout",
     "output_type": "stream",
     "text": [
      "{'type': 'Feature', 'properties': {'style': {'stroke': True, 'color': '#3388ff', 'weight': 4, 'opacity': 0.5, 'fill': True, 'fillColor': None, 'fillOpacity': 0.2, 'clickable': True}}, 'geometry': {'type': 'Polygon', 'coordinates': [[[-50.976563, -6.664608], [-40.078125, -22.917923], [-10.898438, -3.864255], [-25.664063, 9.449062], [-50.976563, -6.664608]]]}}\n",
      "{'type': 'Feature', 'properties': {'style': {'stroke': True, 'color': '#3388ff', 'weight': 4, 'opacity': 0.5, 'fill': True, 'fillColor': None, 'fillOpacity': 0.2, 'clickable': True}}, 'geometry': {'type': 'Polygon', 'coordinates': [[[-23.554687, -28.613459], [6.679688, -15.961329], [7.734375, -38.272689], [-23.90625, -37.996163], [-23.554687, -28.613459]]]}}\n",
      "{'type': 'Feature', 'properties': {'style': {'stroke': True, 'color': '#3388ff', 'weight': 4, 'opacity': 0.5, 'fill': True, 'fillColor': None, 'fillOpacity': 0.2, 'clickable': True}}, 'geometry': {'type': 'Polygon', 'coordinates': [[[-50.976563, -6.664608], [-40.078125, -22.917923], [-10.898438, -3.864255], [-25.664063, 9.449062], [-50.976563, -6.664608]]]}}\n",
      "{'type': 'Feature', 'properties': {'style': {'stroke': True, 'color': '#3388ff', 'weight': 4, 'opacity': 0.5, 'fill': True, 'fillColor': None, 'fillOpacity': 0.2, 'clickable': True}}, 'geometry': {'type': 'Polygon', 'coordinates': [[[-23.554687, -28.613459], [6.679688, -15.961329], [7.734375, -38.272689], [-23.90625, -37.996163], [-23.554687, -28.613459]]]}}\n",
      "{'type': 'Feature', 'properties': {'style': {'stroke': True, 'color': '#3388ff', 'weight': 4, 'opacity': 0.5, 'fill': True, 'fillColor': None, 'fillOpacity': 0.2, 'clickable': True}}, 'geometry': {'type': 'Polygon', 'coordinates': [[[-47.768555, -20.797201], [-48.999023, -21.841105], [-47.988281, -22.978624], [-45.483398, -21.841105], [-45.681152, -21.063997], [-47.768555, -20.797201]]]}}\n"
     ]
    }
   ],
   "source": [
    "for i in feature_collection['features']:\n",
    "    print(i)"
   ]
  },
  {
   "cell_type": "code",
   "execution_count": null,
   "metadata": {},
   "outputs": [],
   "source": []
  },
  {
   "cell_type": "code",
   "execution_count": null,
   "metadata": {},
   "outputs": [],
   "source": []
  },
  {
   "cell_type": "code",
   "execution_count": 101,
   "metadata": {},
   "outputs": [],
   "source": [
    "teste = gpd.read_file(path_inventario)"
   ]
  },
  {
   "cell_type": "code",
   "execution_count": 102,
   "metadata": {},
   "outputs": [
    {
     "data": {
      "text/plain": [
       "Index(['RegistroID', 'Importado', 'Temporario', 'Removido',\n",
       "       'ImportadoRepetido', 'BaciaCodigo', 'SubBaciaCodigo', 'RioCodigo',\n",
       "       'EstadoCodigo', 'MunicipioCodigo', 'ResponsavelCodigo',\n",
       "       'ResponsavelUnidade', 'ResponsavelJurisdicao', 'OperadoraCodigo',\n",
       "       'OperadoraUnidade', 'OperadoraSubUnidade', 'TipoEstacao', 'Codigo',\n",
       "       'Nome', 'CodigoAdicional', 'Latitude', 'Longitude', 'Altitude',\n",
       "       'AreaDrenagem', 'TipoEstacaoEscala', 'TipoEstacaoRegistradorNivel',\n",
       "       'TipoEstacaoDescLiquida', 'TipoEstacaoSedimentos',\n",
       "       'TipoEstacaoQualAgua', 'TipoEstacaoPluviometro',\n",
       "       'TipoEstacaoRegistradorChuva', 'TipoEstacaoTanqueEvapo',\n",
       "       'TipoEstacaoClimatologica', 'TipoEstacaoPiezometria',\n",
       "       'TipoEstacaoTelemetrica', 'PeriodoEscalaInicio', 'PeriodoEscalaFim',\n",
       "       'PeriodoRegistradorNivelInicio', 'PeriodoRegistradorNivelFim',\n",
       "       'PeriodoDescLiquidaInicio', 'PeriodoDescLiquidaFim',\n",
       "       'PeriodoSedimentosInicio', 'PeriodoSedimentosFim',\n",
       "       'PeriodoQualAguaInicio', 'PeriodoQualAguaFim',\n",
       "       'PeriodoPluviometroInicio', 'PeriodoPluviometroFim',\n",
       "       'PeriodoRegistradorChuvaInicio', 'PeriodoRegistradorChuvaFim',\n",
       "       'PeriodoTanqueEvapoInicio', 'PeriodoTanqueEvapoFim',\n",
       "       'PeriodoClimatologicaInicio', 'PeriodoClimatologicaFim',\n",
       "       'PeriodoPiezometriaInicio', 'PeriodoPiezometriaFim',\n",
       "       'PeriodoTelemetricaInicio', 'PeriodoTelemetricaFim', 'TipoRedeBasica',\n",
       "       'TipoRedeEnergetica', 'TipoRedeNavegacao', 'TipoRedeCursoDagua',\n",
       "       'TipoRedeEstrategica', 'TipoRedeCaptacao', 'TipoRedeSedimentos',\n",
       "       'TipoRedeQualAgua', 'TipoRedeClasseVazao', 'UltimaAtualizacao',\n",
       "       'Operando', 'NumImagens', 'DataIns', 'DataAlt', 'RespAlt', 'geometry'],\n",
       "      dtype='object')"
      ]
     },
     "execution_count": 102,
     "metadata": {},
     "output_type": "execute_result"
    }
   ],
   "source": [
    "teste.columns"
   ]
  },
  {
   "cell_type": "code",
   "execution_count": 103,
   "metadata": {},
   "outputs": [],
   "source": [
    "teste[['Latitude', 'Longitude']]= teste[['Latitude', 'Longitude']].apply(lambda x: x.str.replace(',', '.'))"
   ]
  },
  {
   "cell_type": "code",
   "execution_count": 104,
   "metadata": {},
   "outputs": [],
   "source": [
    "teste['Latitude'] = teste['Latitude'].astype('float')\n",
    "teste['Longitude'] = teste['Longitude'].astype('float')"
   ]
  },
  {
   "cell_type": "code",
   "execution_count": 105,
   "metadata": {},
   "outputs": [],
   "source": [
    "gdf = gpd.GeoDataFrame(teste, geometry=gpd.points_from_xy(teste.Longitude, teste.Latitude))"
   ]
  },
  {
   "cell_type": "code",
   "execution_count": 106,
   "metadata": {},
   "outputs": [],
   "source": [
    "from shapely.geometry import Polygon, Point"
   ]
  },
  {
   "cell_type": "code",
   "execution_count": 107,
   "metadata": {},
   "outputs": [
    {
     "name": "stdout",
     "output_type": "stream",
     "text": [
      "-47.768555\n",
      "-48.999023\n",
      "-47.988281\n",
      "-45.483398\n",
      "-45.681152\n",
      "-47.768555\n"
     ]
    }
   ],
   "source": [
    "for i in a['coordinates'][0]:\n",
    "    print(i[0])"
   ]
  },
  {
   "cell_type": "code",
   "execution_count": 108,
   "metadata": {},
   "outputs": [],
   "source": [
    "points = [Point(i[0],i[1]) for i in a['coordinates'][0]]"
   ]
  },
  {
   "cell_type": "code",
   "execution_count": 109,
   "metadata": {},
   "outputs": [],
   "source": [
    "poly = Polygon([(p.x, p.y) for p in points])"
   ]
  },
  {
   "cell_type": "code",
   "execution_count": 110,
   "metadata": {},
   "outputs": [
    {
     "data": {
      "image/svg+xml": [
       "<svg xmlns=\"http://www.w3.org/2000/svg\" xmlns:xlink=\"http://www.w3.org/1999/xlink\" width=\"100.0\" height=\"100.0\" viewBox=\"-49.139648 -23.119249 3.796875 2.462672999999999\" preserveAspectRatio=\"xMinYMin meet\"><g transform=\"matrix(1,0,0,-1,0,-43.775825)\"><path fill-rule=\"evenodd\" fill=\"#66cc99\" stroke=\"#555555\" stroke-width=\"0.0759375\" opacity=\"0.6\" d=\"M -47.768555,-20.797201 L -48.999023,-21.841105 L -47.988281,-22.978624 L -45.483398,-21.841105 L -45.681152,-21.063997 L -47.768555,-20.797201 z\" /></g></svg>"
      ],
      "text/plain": [
       "<shapely.geometry.polygon.Polygon at 0x1530357d888>"
      ]
     },
     "execution_count": 110,
     "metadata": {},
     "output_type": "execute_result"
    }
   ],
   "source": [
    "poly"
   ]
  },
  {
   "cell_type": "code",
   "execution_count": 111,
   "metadata": {},
   "outputs": [],
   "source": [
    "poly_bool = gdf['geometry'].within(poly)"
   ]
  },
  {
   "cell_type": "code",
   "execution_count": 112,
   "metadata": {},
   "outputs": [
    {
     "data": {
      "text/html": [
       "<div>\n",
       "<style scoped>\n",
       "    .dataframe tbody tr th:only-of-type {\n",
       "        vertical-align: middle;\n",
       "    }\n",
       "\n",
       "    .dataframe tbody tr th {\n",
       "        vertical-align: top;\n",
       "    }\n",
       "\n",
       "    .dataframe thead th {\n",
       "        text-align: right;\n",
       "    }\n",
       "</style>\n",
       "<table border=\"1\" class=\"dataframe\">\n",
       "  <thead>\n",
       "    <tr style=\"text-align: right;\">\n",
       "      <th></th>\n",
       "      <th>Nome</th>\n",
       "      <th>Codigo</th>\n",
       "    </tr>\n",
       "  </thead>\n",
       "  <tbody>\n",
       "    <tr>\n",
       "      <td>557</td>\n",
       "      <td>JACUTINGA</td>\n",
       "      <td>2246052</td>\n",
       "    </tr>\n",
       "    <tr>\n",
       "      <td>593</td>\n",
       "      <td>JACUTINGA</td>\n",
       "      <td>61865000</td>\n",
       "    </tr>\n",
       "    <tr>\n",
       "      <td>956</td>\n",
       "      <td>CACHOEIRA DE BAIXO</td>\n",
       "      <td>2246010</td>\n",
       "    </tr>\n",
       "    <tr>\n",
       "      <td>966</td>\n",
       "      <td>ITAQUI</td>\n",
       "      <td>2246005</td>\n",
       "    </tr>\n",
       "    <tr>\n",
       "      <td>1017</td>\n",
       "      <td>AMÉRICO BRASILIENSE</td>\n",
       "      <td>2148035</td>\n",
       "    </tr>\n",
       "    <tr>\n",
       "      <td>...</td>\n",
       "      <td>...</td>\n",
       "      <td>...</td>\n",
       "    </tr>\n",
       "    <tr>\n",
       "      <td>35756</td>\n",
       "      <td>PCH RIO DO PEIXE BARRAMENTO</td>\n",
       "      <td>61816200</td>\n",
       "    </tr>\n",
       "    <tr>\n",
       "      <td>35757</td>\n",
       "      <td>PCH RIO DO PEIXE BARRAMENTO</td>\n",
       "      <td>2146113</td>\n",
       "    </tr>\n",
       "    <tr>\n",
       "      <td>36021</td>\n",
       "      <td>POÇOS DE CALDAS</td>\n",
       "      <td>2146048</td>\n",
       "    </tr>\n",
       "    <tr>\n",
       "      <td>36037</td>\n",
       "      <td>MACHADO</td>\n",
       "      <td>2145033</td>\n",
       "    </tr>\n",
       "    <tr>\n",
       "      <td>36092</td>\n",
       "      <td>USINA TAMÓIO (IAA)</td>\n",
       "      <td>2148058</td>\n",
       "    </tr>\n",
       "  </tbody>\n",
       "</table>\n",
       "<p>976 rows × 2 columns</p>\n",
       "</div>"
      ],
      "text/plain": [
       "                              Nome    Codigo\n",
       "557                      JACUTINGA   2246052\n",
       "593                      JACUTINGA  61865000\n",
       "956             CACHOEIRA DE BAIXO   2246010\n",
       "966                         ITAQUI   2246005\n",
       "1017           AMÉRICO BRASILIENSE   2148035\n",
       "...                            ...       ...\n",
       "35756  PCH RIO DO PEIXE BARRAMENTO  61816200\n",
       "35757  PCH RIO DO PEIXE BARRAMENTO   2146113\n",
       "36021              POÇOS DE CALDAS   2146048\n",
       "36037                      MACHADO   2145033\n",
       "36092           USINA TAMÓIO (IAA)   2148058\n",
       "\n",
       "[976 rows x 2 columns]"
      ]
     },
     "execution_count": 112,
     "metadata": {},
     "output_type": "execute_result"
    }
   ],
   "source": [
    "gdf.loc[gdf['geometry'].within(poly), ['Nome', 'Codigo']]"
   ]
  },
  {
   "cell_type": "code",
   "execution_count": 113,
   "metadata": {},
   "outputs": [],
   "source": [
    "poly2 = Polygon([(i[0], i[1]) for i in a['coordinates'][0]])"
   ]
  },
  {
   "cell_type": "code",
   "execution_count": 114,
   "metadata": {},
   "outputs": [
    {
     "data": {
      "image/svg+xml": [
       "<svg xmlns=\"http://www.w3.org/2000/svg\" xmlns:xlink=\"http://www.w3.org/1999/xlink\" width=\"100.0\" height=\"100.0\" viewBox=\"-49.139648 -23.119249 3.796875 2.462672999999999\" preserveAspectRatio=\"xMinYMin meet\"><g transform=\"matrix(1,0,0,-1,0,-43.775825)\"><path fill-rule=\"evenodd\" fill=\"#66cc99\" stroke=\"#555555\" stroke-width=\"0.0759375\" opacity=\"0.6\" d=\"M -47.768555,-20.797201 L -48.999023,-21.841105 L -47.988281,-22.978624 L -45.483398,-21.841105 L -45.681152,-21.063997 L -47.768555,-20.797201 z\" /></g></svg>"
      ],
      "text/plain": [
       "<shapely.geometry.polygon.Polygon at 0x15301e6ff48>"
      ]
     },
     "execution_count": 114,
     "metadata": {},
     "output_type": "execute_result"
    }
   ],
   "source": [
    "poly2"
   ]
  },
  {
   "cell_type": "code",
   "execution_count": null,
   "metadata": {},
   "outputs": [],
   "source": []
  },
  {
   "cell_type": "code",
   "execution_count": 14,
   "metadata": {},
   "outputs": [
    {
     "data": {
      "application/vnd.jupyter.widget-view+json": {
       "model_id": "e878c8e86b044971a6ea58f617dc5f0d",
       "version_major": 2,
       "version_minor": 0
      },
      "text/plain": [
       "Map(center=[0.0, 0.0], controls=(ZoomControl(options=['position', 'zoom_in_text', 'zoom_in_title', 'zoom_out_t…"
      ]
     },
     "metadata": {},
     "output_type": "display_data"
    }
   ],
   "source": [
    "split_m = ipyleaflet.Map(zoom=2)\n",
    "\n",
    "right_layer = ipyleaflet.Heatmap(locations=[tuple(r) for r in df[['Latitude', 'Longitude']].to_numpy()],\n",
    "                  radius=30, name='Heatmap')\n",
    "left_layer =  ipyleaflet.basemap_to_tiles(ipyleaflet.basemaps.NASAGIBS.ModisTerraTrueColorCR, \"2020-01-30\")\n",
    "\n",
    "control = ipyleaflet.SplitMapControl(left_layer=left_layer, right_layer=right_layer)\n",
    "split_m.add_control(control)\n",
    "split_m"
   ]
  },
  {
   "cell_type": "code",
   "execution_count": null,
   "metadata": {},
   "outputs": [],
   "source": []
  }
 ],
 "metadata": {
  "kernelspec": {
   "display_name": "Python 3",
   "language": "python",
   "name": "python3"
  },
  "language_info": {
   "codemirror_mode": {
    "name": "ipython",
    "version": 3
   },
   "file_extension": ".py",
   "mimetype": "text/x-python",
   "name": "python",
   "nbconvert_exporter": "python",
   "pygments_lexer": "ipython3",
   "version": "3.7.4"
  }
 },
 "nbformat": 4,
 "nbformat_minor": 4
}
